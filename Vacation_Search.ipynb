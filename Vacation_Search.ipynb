{
 "cells": [
  {
   "cell_type": "code",
   "execution_count": 1,
   "metadata": {},
   "outputs": [],
   "source": [
    "import pandas as pd\n",
    "import numpy as np\n",
    "import gmaps\n",
    "import requests\n",
    "\n",
    "from config import g_key"
   ]
  },
  {
   "cell_type": "code",
   "execution_count": 22,
   "metadata": {},
   "outputs": [],
   "source": [
    "# Configure gmaps to use your Google API key.\n",
    "gmaps.configure(api_key=g_key)"
   ]
  },
  {
   "cell_type": "code",
   "execution_count": 2,
   "metadata": {},
   "outputs": [
    {
     "data": {
      "text/html": [
       "<div>\n",
       "<style scoped>\n",
       "    .dataframe tbody tr th:only-of-type {\n",
       "        vertical-align: middle;\n",
       "    }\n",
       "\n",
       "    .dataframe tbody tr th {\n",
       "        vertical-align: top;\n",
       "    }\n",
       "\n",
       "    .dataframe thead th {\n",
       "        text-align: right;\n",
       "    }\n",
       "</style>\n",
       "<table border=\"1\" class=\"dataframe\">\n",
       "  <thead>\n",
       "    <tr style=\"text-align: right;\">\n",
       "      <th></th>\n",
       "      <th>City_ID</th>\n",
       "      <th>City</th>\n",
       "      <th>Country</th>\n",
       "      <th>Date</th>\n",
       "      <th>Lat</th>\n",
       "      <th>Lng</th>\n",
       "      <th>Max Temp</th>\n",
       "      <th>Humidity</th>\n",
       "      <th>Cloudiness</th>\n",
       "      <th>Wind Speed</th>\n",
       "      <th>Current Weather</th>\n",
       "      <th>Rain inches (last 3hrs)</th>\n",
       "      <th>Snow inches (last 3hrs)</th>\n",
       "    </tr>\n",
       "  </thead>\n",
       "  <tbody>\n",
       "    <tr>\n",
       "      <th>0</th>\n",
       "      <td>0</td>\n",
       "      <td>Rikitea</td>\n",
       "      <td>PF</td>\n",
       "      <td>2020-05-10 17:30:30</td>\n",
       "      <td>-23.12</td>\n",
       "      <td>-134.97</td>\n",
       "      <td>75.36</td>\n",
       "      <td>73</td>\n",
       "      <td>5</td>\n",
       "      <td>9.73</td>\n",
       "      <td>clear sky</td>\n",
       "      <td>0</td>\n",
       "      <td>0</td>\n",
       "    </tr>\n",
       "    <tr>\n",
       "      <th>1</th>\n",
       "      <td>1</td>\n",
       "      <td>Yellowknife</td>\n",
       "      <td>CA</td>\n",
       "      <td>2020-05-10 17:27:55</td>\n",
       "      <td>62.46</td>\n",
       "      <td>-114.35</td>\n",
       "      <td>30.20</td>\n",
       "      <td>54</td>\n",
       "      <td>20</td>\n",
       "      <td>6.93</td>\n",
       "      <td>few clouds</td>\n",
       "      <td>0</td>\n",
       "      <td>0</td>\n",
       "    </tr>\n",
       "    <tr>\n",
       "      <th>2</th>\n",
       "      <td>2</td>\n",
       "      <td>Staryy Nadym</td>\n",
       "      <td>RU</td>\n",
       "      <td>2020-05-10 17:28:40</td>\n",
       "      <td>65.61</td>\n",
       "      <td>72.68</td>\n",
       "      <td>44.42</td>\n",
       "      <td>88</td>\n",
       "      <td>2</td>\n",
       "      <td>7.54</td>\n",
       "      <td>clear sky</td>\n",
       "      <td>0</td>\n",
       "      <td>0</td>\n",
       "    </tr>\n",
       "    <tr>\n",
       "      <th>3</th>\n",
       "      <td>3</td>\n",
       "      <td>Hobart</td>\n",
       "      <td>AU</td>\n",
       "      <td>2020-05-10 17:27:25</td>\n",
       "      <td>-42.88</td>\n",
       "      <td>147.33</td>\n",
       "      <td>50.00</td>\n",
       "      <td>71</td>\n",
       "      <td>40</td>\n",
       "      <td>9.17</td>\n",
       "      <td>scattered clouds</td>\n",
       "      <td>0</td>\n",
       "      <td>0</td>\n",
       "    </tr>\n",
       "    <tr>\n",
       "      <th>4</th>\n",
       "      <td>4</td>\n",
       "      <td>Nizhniy Bestyakh</td>\n",
       "      <td>RU</td>\n",
       "      <td>2020-05-10 17:30:30</td>\n",
       "      <td>61.96</td>\n",
       "      <td>129.91</td>\n",
       "      <td>30.20</td>\n",
       "      <td>74</td>\n",
       "      <td>99</td>\n",
       "      <td>6.71</td>\n",
       "      <td>overcast clouds</td>\n",
       "      <td>0</td>\n",
       "      <td>0</td>\n",
       "    </tr>\n",
       "  </tbody>\n",
       "</table>\n",
       "</div>"
      ],
      "text/plain": [
       "   City_ID              City Country                 Date    Lat     Lng  \\\n",
       "0        0           Rikitea      PF  2020-05-10 17:30:30 -23.12 -134.97   \n",
       "1        1       Yellowknife      CA  2020-05-10 17:27:55  62.46 -114.35   \n",
       "2        2      Staryy Nadym      RU  2020-05-10 17:28:40  65.61   72.68   \n",
       "3        3            Hobart      AU  2020-05-10 17:27:25 -42.88  147.33   \n",
       "4        4  Nizhniy Bestyakh      RU  2020-05-10 17:30:30  61.96  129.91   \n",
       "\n",
       "   Max Temp  Humidity  Cloudiness  Wind Speed   Current Weather  \\\n",
       "0     75.36        73           5        9.73         clear sky   \n",
       "1     30.20        54          20        6.93        few clouds   \n",
       "2     44.42        88           2        7.54         clear sky   \n",
       "3     50.00        71          40        9.17  scattered clouds   \n",
       "4     30.20        74          99        6.71   overcast clouds   \n",
       "\n",
       "   Rain inches (last 3hrs)  Snow inches (last 3hrs)  \n",
       "0                        0                        0  \n",
       "1                        0                        0  \n",
       "2                        0                        0  \n",
       "3                        0                        0  \n",
       "4                        0                        0  "
      ]
     },
     "execution_count": 2,
     "metadata": {},
     "output_type": "execute_result"
    }
   ],
   "source": [
    "city_data_df = pd.read_csv(\"weather_data/WeatherPy_challenge.csv\")\n",
    "city_data_df.head()"
   ]
  },
  {
   "cell_type": "code",
   "execution_count": 3,
   "metadata": {},
   "outputs": [
    {
     "data": {
      "text/plain": [
       "0"
      ]
     },
     "execution_count": 3,
     "metadata": {},
     "output_type": "execute_result"
    }
   ],
   "source": [
    "city_data_df.loc[city_data_df[\"Rain inches (last 3hrs)\"] > 0].count()[\"City\"]"
   ]
  },
  {
   "cell_type": "code",
   "execution_count": 4,
   "metadata": {},
   "outputs": [
    {
     "data": {
      "text/plain": [
       "0"
      ]
     },
     "execution_count": 4,
     "metadata": {},
     "output_type": "execute_result"
    }
   ],
   "source": [
    "city_data_df.loc[city_data_df[\"Snow inches (last 3hrs)\"] > 0].count()[\"City\"]"
   ]
  },
  {
   "cell_type": "code",
   "execution_count": 11,
   "metadata": {},
   "outputs": [
    {
     "name": "stdout",
     "output_type": "stream",
     "text": [
      "What is the minimum temperature you would like for your trip? 65\n",
      "What is the maximum temperature you would like for your trip? 80\n"
     ]
    }
   ],
   "source": [
    "# Prompt the customer for the minimum temperature preference.\n",
    "min_temp = float(input(\"What is the minimum temperature you would like for your trip? \"))\n",
    "\n",
    "# Prompt the customer for the maximum temperature preference.\n",
    "\n",
    "max_temp = float(input(\"What is the maximum temperature you would like for your trip? \"))"
   ]
  },
  {
   "cell_type": "code",
   "execution_count": 12,
   "metadata": {},
   "outputs": [
    {
     "name": "stdout",
     "output_type": "stream",
     "text": [
      "Do you want it to be raining? (yes/no) no\n"
     ]
    }
   ],
   "source": [
    "# Prompt the customer to answer if he or she would like it to be raining or not\n",
    "rain_YorN = input(\"Do you want it to be raining? (yes/no) \")"
   ]
  },
  {
   "cell_type": "code",
   "execution_count": 13,
   "metadata": {},
   "outputs": [
    {
     "name": "stdout",
     "output_type": "stream",
     "text": [
      "Do you want it to be snowing? (yes/no) no\n"
     ]
    }
   ],
   "source": [
    "# Prompt the customer to answer if he or she would like it to be snowing or not\n",
    "snow_YorN = input(\"Do you want it to be snowing? (yes/no) \")"
   ]
  },
  {
   "cell_type": "code",
   "execution_count": 14,
   "metadata": {},
   "outputs": [
    {
     "data": {
      "text/plain": [
       "173"
      ]
     },
     "execution_count": 14,
     "metadata": {},
     "output_type": "execute_result"
    }
   ],
   "source": [
    "if (rain_YorN.lower()==\"no\") & (snow_YorN.lower() ==\"no\"):\n",
    "    preferred_cities_df = city_data_df.loc[(city_data_df[\"Max Temp\"]>= min_temp) & \n",
    "                                           (city_data_df[\"Max Temp\"]<= max_temp) &\n",
    "                                           (city_data_df[\"Rain inches (last 3hrs)\"]==0) & \n",
    "                                           (city_data_df[\"Snow inches (last 3hrs)\"]==0)]\n",
    "elif (rain_YorN.lower() == \"no\") & (snow_YorN.lower() == \"yes\"):\n",
    "    preferred_cities_df = city_data_df.loc[(city_data_df[\"Max Temp\"]>= min_temp) & \n",
    "                                           (city_data_df[\"Max Temp\"]<= max_temp) & \n",
    "                                           (city_data_df[\"Snow inches (last 3hrs)\"]>0)]\n",
    "\n",
    "else:\n",
    "    preferred_cities_df = city_data_df.loc[(city_data_df[\"Max Temp\"]>= min_temp) & \n",
    "                                           (city_data_df[\"Max Temp\"]<= max_temp) & \n",
    "                                           (city_data_df[\"Rain inches (last 3hrs)\"]>0)]\n",
    "preferred_cities_df.count()[\"City\"]"
   ]
  },
  {
   "cell_type": "code",
   "execution_count": 15,
   "metadata": {},
   "outputs": [
    {
     "name": "stderr",
     "output_type": "stream",
     "text": [
      "C:\\Users\\Danie\\anaconda3\\envs\\PythonData\\lib\\site-packages\\ipykernel_launcher.py:2: SettingWithCopyWarning: \n",
      "A value is trying to be set on a copy of a slice from a DataFrame.\n",
      "Try using .loc[row_indexer,col_indexer] = value instead\n",
      "\n",
      "See the caveats in the documentation: https://pandas.pydata.org/pandas-docs/stable/user_guide/indexing.html#returning-a-view-versus-a-copy\n",
      "  \n"
     ]
    },
    {
     "data": {
      "text/html": [
       "<div>\n",
       "<style scoped>\n",
       "    .dataframe tbody tr th:only-of-type {\n",
       "        vertical-align: middle;\n",
       "    }\n",
       "\n",
       "    .dataframe tbody tr th {\n",
       "        vertical-align: top;\n",
       "    }\n",
       "\n",
       "    .dataframe thead th {\n",
       "        text-align: right;\n",
       "    }\n",
       "</style>\n",
       "<table border=\"1\" class=\"dataframe\">\n",
       "  <thead>\n",
       "    <tr style=\"text-align: right;\">\n",
       "      <th></th>\n",
       "      <th>City</th>\n",
       "      <th>Country</th>\n",
       "      <th>Max Temp</th>\n",
       "      <th>Current Weather</th>\n",
       "      <th>Lat</th>\n",
       "      <th>Lng</th>\n",
       "      <th>Hotel Name</th>\n",
       "    </tr>\n",
       "  </thead>\n",
       "  <tbody>\n",
       "    <tr>\n",
       "      <th>0</th>\n",
       "      <td>Rikitea</td>\n",
       "      <td>PF</td>\n",
       "      <td>75.36</td>\n",
       "      <td>clear sky</td>\n",
       "      <td>-23.12</td>\n",
       "      <td>-134.97</td>\n",
       "      <td></td>\n",
       "    </tr>\n",
       "    <tr>\n",
       "      <th>7</th>\n",
       "      <td>Guerrero Negro</td>\n",
       "      <td>MX</td>\n",
       "      <td>71.49</td>\n",
       "      <td>scattered clouds</td>\n",
       "      <td>27.98</td>\n",
       "      <td>-114.06</td>\n",
       "      <td></td>\n",
       "    </tr>\n",
       "    <tr>\n",
       "      <th>15</th>\n",
       "      <td>Popondetta</td>\n",
       "      <td>PG</td>\n",
       "      <td>74.07</td>\n",
       "      <td>broken clouds</td>\n",
       "      <td>-8.75</td>\n",
       "      <td>148.25</td>\n",
       "      <td></td>\n",
       "    </tr>\n",
       "    <tr>\n",
       "      <th>16</th>\n",
       "      <td>Kapaa</td>\n",
       "      <td>US</td>\n",
       "      <td>75.20</td>\n",
       "      <td>overcast clouds</td>\n",
       "      <td>22.08</td>\n",
       "      <td>-159.32</td>\n",
       "      <td></td>\n",
       "    </tr>\n",
       "    <tr>\n",
       "      <th>17</th>\n",
       "      <td>Souillac</td>\n",
       "      <td>MU</td>\n",
       "      <td>73.40</td>\n",
       "      <td>scattered clouds</td>\n",
       "      <td>-20.52</td>\n",
       "      <td>57.52</td>\n",
       "      <td></td>\n",
       "    </tr>\n",
       "  </tbody>\n",
       "</table>\n",
       "</div>"
      ],
      "text/plain": [
       "              City Country  Max Temp   Current Weather    Lat     Lng  \\\n",
       "0          Rikitea      PF     75.36         clear sky -23.12 -134.97   \n",
       "7   Guerrero Negro      MX     71.49  scattered clouds  27.98 -114.06   \n",
       "15      Popondetta      PG     74.07     broken clouds  -8.75  148.25   \n",
       "16           Kapaa      US     75.20   overcast clouds  22.08 -159.32   \n",
       "17        Souillac      MU     73.40  scattered clouds -20.52   57.52   \n",
       "\n",
       "   Hotel Name  \n",
       "0              \n",
       "7              \n",
       "15             \n",
       "16             \n",
       "17             "
      ]
     },
     "execution_count": 15,
     "metadata": {},
     "output_type": "execute_result"
    }
   ],
   "source": [
    "hotel_df = preferred_cities_df[[\"City\",\"Country\",\"Max Temp\", \"Current Weather\", \"Lat\",\"Lng\"]]\n",
    "hotel_df[\"Hotel Name\"] = \"\"\n",
    "hotel_df.head()"
   ]
  },
  {
   "cell_type": "code",
   "execution_count": 16,
   "metadata": {},
   "outputs": [],
   "source": [
    "params = {\n",
    "    \"radius\": 5000,\n",
    "    \"type\": \"lodging\",\n",
    "    \"key\": g_key}\n",
    "\n",
    "# https://developers.google.com/maps/documentation/geocoding/start#reverse\n"
   ]
  },
  {
   "cell_type": "code",
   "execution_count": 17,
   "metadata": {},
   "outputs": [
    {
     "name": "stderr",
     "output_type": "stream",
     "text": [
      "C:\\Users\\Danie\\anaconda3\\envs\\PythonData\\lib\\site-packages\\pandas\\core\\indexing.py:966: SettingWithCopyWarning: \n",
      "A value is trying to be set on a copy of a slice from a DataFrame.\n",
      "Try using .loc[row_indexer,col_indexer] = value instead\n",
      "\n",
      "See the caveats in the documentation: https://pandas.pydata.org/pandas-docs/stable/user_guide/indexing.html#returning-a-view-versus-a-copy\n",
      "  self.obj[item] = s\n"
     ]
    },
    {
     "name": "stdout",
     "output_type": "stream",
     "text": [
      "Hotel not found... skipping\n",
      "Hotel not found... skipping\n",
      "Hotel not found... skipping\n",
      "Hotel not found... skipping\n",
      "Hotel not found... skipping\n",
      "Hotel not found... skipping\n",
      "Hotel not found... skipping\n",
      "Hotel not found... skipping\n",
      "Hotel not found... skipping\n"
     ]
    }
   ],
   "source": [
    "#iterate through dataframe\n",
    "for index, row in hotel_df.iterrows():\n",
    "    #Get the lat and lng\n",
    "    lat = row[\"Lat\"]\n",
    "    lng = row[\"Lng\"]\n",
    "    \n",
    "    # add the lat and lng to location key for the params dictionary\n",
    "    params[\"location\"] = f\"{lat},{lng}\"\n",
    "    \n",
    "    url= \"https://maps.googleapis.com/maps/api/place/nearbysearch/json\"    \n",
    "    # make request and get json data\n",
    "    hotels = requests.get(url, params=params).json()\n",
    "    #grab the first hotel from the results.. store name\n",
    "    try:\n",
    "        hotel_df.loc[index, \"Hotel Name\"] = hotels[\"results\"][0][\"name\"]\n",
    "    except IndexError:\n",
    "        print(\"Hotel not found... skipping\")"
   ]
  },
  {
   "cell_type": "code",
   "execution_count": 18,
   "metadata": {},
   "outputs": [
    {
     "data": {
      "text/html": [
       "<div>\n",
       "<style scoped>\n",
       "    .dataframe tbody tr th:only-of-type {\n",
       "        vertical-align: middle;\n",
       "    }\n",
       "\n",
       "    .dataframe tbody tr th {\n",
       "        vertical-align: top;\n",
       "    }\n",
       "\n",
       "    .dataframe thead th {\n",
       "        text-align: right;\n",
       "    }\n",
       "</style>\n",
       "<table border=\"1\" class=\"dataframe\">\n",
       "  <thead>\n",
       "    <tr style=\"text-align: right;\">\n",
       "      <th></th>\n",
       "      <th>City</th>\n",
       "      <th>Country</th>\n",
       "      <th>Max Temp</th>\n",
       "      <th>Current Weather</th>\n",
       "      <th>Lat</th>\n",
       "      <th>Lng</th>\n",
       "      <th>Hotel Name</th>\n",
       "    </tr>\n",
       "  </thead>\n",
       "  <tbody>\n",
       "    <tr>\n",
       "      <th>0</th>\n",
       "      <td>Rikitea</td>\n",
       "      <td>PF</td>\n",
       "      <td>75.36</td>\n",
       "      <td>clear sky</td>\n",
       "      <td>-23.12</td>\n",
       "      <td>-134.97</td>\n",
       "      <td>Pension Maro'i</td>\n",
       "    </tr>\n",
       "    <tr>\n",
       "      <th>7</th>\n",
       "      <td>Guerrero Negro</td>\n",
       "      <td>MX</td>\n",
       "      <td>71.49</td>\n",
       "      <td>scattered clouds</td>\n",
       "      <td>27.98</td>\n",
       "      <td>-114.06</td>\n",
       "      <td>Casa Laguna, Bed &amp; Breakfast</td>\n",
       "    </tr>\n",
       "    <tr>\n",
       "      <th>15</th>\n",
       "      <td>Popondetta</td>\n",
       "      <td>PG</td>\n",
       "      <td>74.07</td>\n",
       "      <td>broken clouds</td>\n",
       "      <td>-8.75</td>\n",
       "      <td>148.25</td>\n",
       "      <td>Timos Transit House</td>\n",
       "    </tr>\n",
       "    <tr>\n",
       "      <th>16</th>\n",
       "      <td>Kapaa</td>\n",
       "      <td>US</td>\n",
       "      <td>75.20</td>\n",
       "      <td>overcast clouds</td>\n",
       "      <td>22.08</td>\n",
       "      <td>-159.32</td>\n",
       "      <td>Sheraton Kauai Resort at Coconut Beach</td>\n",
       "    </tr>\n",
       "    <tr>\n",
       "      <th>17</th>\n",
       "      <td>Souillac</td>\n",
       "      <td>MU</td>\n",
       "      <td>73.40</td>\n",
       "      <td>scattered clouds</td>\n",
       "      <td>-20.52</td>\n",
       "      <td>57.52</td>\n",
       "      <td>Bils' Villa</td>\n",
       "    </tr>\n",
       "  </tbody>\n",
       "</table>\n",
       "</div>"
      ],
      "text/plain": [
       "              City Country  Max Temp   Current Weather    Lat     Lng  \\\n",
       "0          Rikitea      PF     75.36         clear sky -23.12 -134.97   \n",
       "7   Guerrero Negro      MX     71.49  scattered clouds  27.98 -114.06   \n",
       "15      Popondetta      PG     74.07     broken clouds  -8.75  148.25   \n",
       "16           Kapaa      US     75.20   overcast clouds  22.08 -159.32   \n",
       "17        Souillac      MU     73.40  scattered clouds -20.52   57.52   \n",
       "\n",
       "                                Hotel Name  \n",
       "0                           Pension Maro'i  \n",
       "7             Casa Laguna, Bed & Breakfast  \n",
       "15                     Timos Transit House  \n",
       "16  Sheraton Kauai Resort at Coconut Beach  \n",
       "17                             Bils' Villa  "
      ]
     },
     "execution_count": 18,
     "metadata": {},
     "output_type": "execute_result"
    }
   ],
   "source": [
    "hotel_df.head()"
   ]
  },
  {
   "cell_type": "code",
   "execution_count": 19,
   "metadata": {},
   "outputs": [],
   "source": [
    "# # upload new dataframe as csv\n",
    "# # Create the output file (CSV).\n",
    "hotel_df.to_csv(\"weather_data/WeatherPy_vacation.csv\")\n",
    "## check vacation data file\n"
   ]
  },
  {
   "cell_type": "code",
   "execution_count": 23,
   "metadata": {},
   "outputs": [
    {
     "data": {
      "application/vnd.jupyter.widget-view+json": {
       "model_id": "29fec732f0824bf888111dfbe23ded3e",
       "version_major": 2,
       "version_minor": 0
      },
      "text/plain": [
       "Figure(layout=FigureLayout(height='420px'))"
      ]
     },
     "metadata": {},
     "output_type": "display_data"
    }
   ],
   "source": [
    "# Add pop-up marker for each city\n",
    "locations = hotel_df[[\"Lat\", \"Lng\"]]\n",
    "fig = gmaps.figure(center=(30.0, 31.0), zoom_level=1.5)\n",
    "marker_layer = gmaps.marker_layer(locations)\n",
    "\n",
    "fig.add_layer(marker_layer)\n",
    "# Call the figure to plot the data.\n",
    "fig"
   ]
  },
  {
   "cell_type": "code",
   "execution_count": 29,
   "metadata": {},
   "outputs": [],
   "source": [
    "info_box_template = \"\"\"\n",
    "<dl>\n",
    "<dt>Hotel Name</dt><dd>{Hotel Name}</dd>\n",
    "<dt>City</dt><dd>{City}</dd>\n",
    "<dt>Country</dt><dd>{Country}</dd>\n",
    "<dt>Current Weather</dt><dd>{Current Weather} and {Max Temp} °F </dd>\n",
    "\n",
    "</dl>\n",
    "\"\"\"\n",
    "# Store the DataFrame Row.\n",
    "hotel_info = [info_box_template.format(**row) for index, row in hotel_df.iterrows()]"
   ]
  },
  {
   "cell_type": "code",
   "execution_count": 30,
   "metadata": {},
   "outputs": [],
   "source": [
    "# Filter the DataFrame for minimum and maximum temperature preferences, \n",
    "# and if the rain or snow accumulation is 0 inches or not using conditional statements. Do the following:\n",
    "# Prompt the customer for the minimum temperature preference.\n",
    "# Prompt the customer for the maximum temperature preference.\n",
    "# Prompt the customer to answer if he or she would like it to be raining or not, \n",
    "# using input(\"Do you want it to be raining? (yes/no) \").\n",
    "# Prompt the customer to answer if he or she would like it to be snowing or not,\n",
    "# using input(\"Do you want it to be snowing? (yes/no) \")"
   ]
  },
  {
   "cell_type": "code",
   "execution_count": 33,
   "metadata": {},
   "outputs": [
    {
     "data": {
      "application/vnd.jupyter.widget-view+json": {
       "model_id": "b76f3704b985423c95505b1bac98f02f",
       "version_major": 2,
       "version_minor": 0
      },
      "text/plain": [
       "Figure(layout=FigureLayout(height='420px'))"
      ]
     },
     "metadata": {},
     "output_type": "display_data"
    }
   ],
   "source": [
    "# Add pop-up marker for each city\n",
    "locations = hotel_df[[\"Lat\", \"Lng\"]]\n",
    "fig = gmaps.figure(center=(30.0, 31.0), zoom_level=1.5)\n",
    "marker_layer = gmaps.marker_layer(locations, info_box_content = hotel_info)\n",
    "\n",
    "fig.add_layer(marker_layer)\n",
    "# Call the figure to plot the data.\n",
    "\n",
    "fig"
   ]
  },
  {
   "cell_type": "code",
   "execution_count": null,
   "metadata": {},
   "outputs": [],
   "source": []
  }
 ],
 "metadata": {
  "kernelspec": {
   "display_name": "PythonData",
   "language": "python",
   "name": "pythondata"
  },
  "language_info": {
   "codemirror_mode": {
    "name": "ipython",
    "version": 3
   },
   "file_extension": ".py",
   "mimetype": "text/x-python",
   "name": "python",
   "nbconvert_exporter": "python",
   "pygments_lexer": "ipython3",
   "version": "3.7.7"
  }
 },
 "nbformat": 4,
 "nbformat_minor": 4
}
