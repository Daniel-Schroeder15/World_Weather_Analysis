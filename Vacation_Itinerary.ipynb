{
 "cells": [
  {
   "cell_type": "code",
   "execution_count": 13,
   "metadata": {},
   "outputs": [],
   "source": [
    "import pandas as pd\n",
    "import numpy as np\n",
    "import gmaps\n",
    "import gmaps.datasets\n",
    "import requests\n",
    "\n",
    "from config import g_key"
   ]
  },
  {
   "cell_type": "code",
   "execution_count": 23,
   "metadata": {},
   "outputs": [],
   "source": [
    "# Configure gmaps to use your Google API key.\n",
    "gmaps.configure(api_key=g_key)"
   ]
  },
  {
   "cell_type": "code",
   "execution_count": 14,
   "metadata": {
    "scrolled": false
   },
   "outputs": [
    {
     "data": {
      "text/html": [
       "<div>\n",
       "<style scoped>\n",
       "    .dataframe tbody tr th:only-of-type {\n",
       "        vertical-align: middle;\n",
       "    }\n",
       "\n",
       "    .dataframe tbody tr th {\n",
       "        vertical-align: top;\n",
       "    }\n",
       "\n",
       "    .dataframe thead th {\n",
       "        text-align: right;\n",
       "    }\n",
       "</style>\n",
       "<table border=\"1\" class=\"dataframe\">\n",
       "  <thead>\n",
       "    <tr style=\"text-align: right;\">\n",
       "      <th></th>\n",
       "      <th>Unnamed: 0</th>\n",
       "      <th>City</th>\n",
       "      <th>Country</th>\n",
       "      <th>Max Temp</th>\n",
       "      <th>Current Weather</th>\n",
       "      <th>Lat</th>\n",
       "      <th>Lng</th>\n",
       "      <th>Hotel Name</th>\n",
       "    </tr>\n",
       "  </thead>\n",
       "  <tbody>\n",
       "    <tr>\n",
       "      <th>0</th>\n",
       "      <td>0</td>\n",
       "      <td>Rikitea</td>\n",
       "      <td>PF</td>\n",
       "      <td>75.36</td>\n",
       "      <td>clear sky</td>\n",
       "      <td>-23.12</td>\n",
       "      <td>-134.97</td>\n",
       "      <td>Pension Maro'i</td>\n",
       "    </tr>\n",
       "    <tr>\n",
       "      <th>1</th>\n",
       "      <td>7</td>\n",
       "      <td>Guerrero Negro</td>\n",
       "      <td>MX</td>\n",
       "      <td>71.49</td>\n",
       "      <td>scattered clouds</td>\n",
       "      <td>27.98</td>\n",
       "      <td>-114.06</td>\n",
       "      <td>Casa Laguna, Bed &amp; Breakfast</td>\n",
       "    </tr>\n",
       "    <tr>\n",
       "      <th>2</th>\n",
       "      <td>15</td>\n",
       "      <td>Popondetta</td>\n",
       "      <td>PG</td>\n",
       "      <td>74.07</td>\n",
       "      <td>broken clouds</td>\n",
       "      <td>-8.75</td>\n",
       "      <td>148.25</td>\n",
       "      <td>Timos Transit House</td>\n",
       "    </tr>\n",
       "    <tr>\n",
       "      <th>3</th>\n",
       "      <td>16</td>\n",
       "      <td>Kapaa</td>\n",
       "      <td>US</td>\n",
       "      <td>75.20</td>\n",
       "      <td>overcast clouds</td>\n",
       "      <td>22.08</td>\n",
       "      <td>-159.32</td>\n",
       "      <td>Sheraton Kauai Resort at Coconut Beach</td>\n",
       "    </tr>\n",
       "    <tr>\n",
       "      <th>4</th>\n",
       "      <td>17</td>\n",
       "      <td>Souillac</td>\n",
       "      <td>MU</td>\n",
       "      <td>73.40</td>\n",
       "      <td>scattered clouds</td>\n",
       "      <td>-20.52</td>\n",
       "      <td>57.52</td>\n",
       "      <td>Bils' Villa</td>\n",
       "    </tr>\n",
       "    <tr>\n",
       "      <th>...</th>\n",
       "      <td>...</td>\n",
       "      <td>...</td>\n",
       "      <td>...</td>\n",
       "      <td>...</td>\n",
       "      <td>...</td>\n",
       "      <td>...</td>\n",
       "      <td>...</td>\n",
       "      <td>...</td>\n",
       "    </tr>\n",
       "    <tr>\n",
       "      <th>168</th>\n",
       "      <td>535</td>\n",
       "      <td>Rundu</td>\n",
       "      <td>NaN</td>\n",
       "      <td>73.40</td>\n",
       "      <td>overcast clouds</td>\n",
       "      <td>-17.93</td>\n",
       "      <td>19.77</td>\n",
       "      <td>Millennia Estate</td>\n",
       "    </tr>\n",
       "    <tr>\n",
       "      <th>169</th>\n",
       "      <td>538</td>\n",
       "      <td>Umm Lajj</td>\n",
       "      <td>SA</td>\n",
       "      <td>76.48</td>\n",
       "      <td>scattered clouds</td>\n",
       "      <td>25.02</td>\n",
       "      <td>37.27</td>\n",
       "      <td>Tanal Hotel Apartment</td>\n",
       "    </tr>\n",
       "    <tr>\n",
       "      <th>170</th>\n",
       "      <td>541</td>\n",
       "      <td>Prince Rupert</td>\n",
       "      <td>CA</td>\n",
       "      <td>68.00</td>\n",
       "      <td>clear sky</td>\n",
       "      <td>54.32</td>\n",
       "      <td>-130.32</td>\n",
       "      <td>Crest Hotel</td>\n",
       "    </tr>\n",
       "    <tr>\n",
       "      <th>171</th>\n",
       "      <td>545</td>\n",
       "      <td>Cross Lanes</td>\n",
       "      <td>US</td>\n",
       "      <td>66.00</td>\n",
       "      <td>scattered clouds</td>\n",
       "      <td>38.42</td>\n",
       "      <td>-81.79</td>\n",
       "      <td>Mardi Gras Casino &amp; Resort</td>\n",
       "    </tr>\n",
       "    <tr>\n",
       "      <th>172</th>\n",
       "      <td>546</td>\n",
       "      <td>Camocim</td>\n",
       "      <td>BR</td>\n",
       "      <td>79.47</td>\n",
       "      <td>moderate rain</td>\n",
       "      <td>-2.90</td>\n",
       "      <td>-40.84</td>\n",
       "      <td>Hotel Ilha do Amor</td>\n",
       "    </tr>\n",
       "  </tbody>\n",
       "</table>\n",
       "<p>173 rows × 8 columns</p>\n",
       "</div>"
      ],
      "text/plain": [
       "     Unnamed: 0            City Country  Max Temp   Current Weather    Lat  \\\n",
       "0             0         Rikitea      PF     75.36         clear sky -23.12   \n",
       "1             7  Guerrero Negro      MX     71.49  scattered clouds  27.98   \n",
       "2            15      Popondetta      PG     74.07     broken clouds  -8.75   \n",
       "3            16           Kapaa      US     75.20   overcast clouds  22.08   \n",
       "4            17        Souillac      MU     73.40  scattered clouds -20.52   \n",
       "..          ...             ...     ...       ...               ...    ...   \n",
       "168         535           Rundu     NaN     73.40   overcast clouds -17.93   \n",
       "169         538        Umm Lajj      SA     76.48  scattered clouds  25.02   \n",
       "170         541   Prince Rupert      CA     68.00         clear sky  54.32   \n",
       "171         545     Cross Lanes      US     66.00  scattered clouds  38.42   \n",
       "172         546         Camocim      BR     79.47     moderate rain  -2.90   \n",
       "\n",
       "        Lng                              Hotel Name  \n",
       "0   -134.97                          Pension Maro'i  \n",
       "1   -114.06            Casa Laguna, Bed & Breakfast  \n",
       "2    148.25                     Timos Transit House  \n",
       "3   -159.32  Sheraton Kauai Resort at Coconut Beach  \n",
       "4     57.52                             Bils' Villa  \n",
       "..      ...                                     ...  \n",
       "168   19.77                        Millennia Estate  \n",
       "169   37.27                   Tanal Hotel Apartment  \n",
       "170 -130.32                             Crest Hotel  \n",
       "171  -81.79              Mardi Gras Casino & Resort  \n",
       "172  -40.84                      Hotel Ilha do Amor  \n",
       "\n",
       "[173 rows x 8 columns]"
      ]
     },
     "execution_count": 14,
     "metadata": {},
     "output_type": "execute_result"
    }
   ],
   "source": [
    "vacation_search_df = pd.read_csv(\"weather_data/WeatherPy_vacation.csv\")\n",
    "vacation_search_df"
   ]
  },
  {
   "cell_type": "code",
   "execution_count": 15,
   "metadata": {},
   "outputs": [],
   "source": [
    "Kabanjahe_df = vacation_search_df.loc[vacation_search_df[\"City\"]==\"Kabanjahe\"]\n",
    "Sibolga_df = vacation_search_df.loc[vacation_search_df[\"City\"]==\"Sibolga\"]\n",
    "Padang_df = vacation_search_df.loc[vacation_search_df[\"City\"]==\"Padang\"]\n",
    "Bengkulu_df = vacation_search_df.loc[vacation_search_df[\"City\"]==\"Bengkulu\"]"
   ]
  },
  {
   "cell_type": "code",
   "execution_count": 16,
   "metadata": {},
   "outputs": [
    {
     "data": {
      "text/html": [
       "<div>\n",
       "<style scoped>\n",
       "    .dataframe tbody tr th:only-of-type {\n",
       "        vertical-align: middle;\n",
       "    }\n",
       "\n",
       "    .dataframe tbody tr th {\n",
       "        vertical-align: top;\n",
       "    }\n",
       "\n",
       "    .dataframe thead th {\n",
       "        text-align: right;\n",
       "    }\n",
       "</style>\n",
       "<table border=\"1\" class=\"dataframe\">\n",
       "  <thead>\n",
       "    <tr style=\"text-align: right;\">\n",
       "      <th></th>\n",
       "      <th>Unnamed: 0</th>\n",
       "      <th>City</th>\n",
       "      <th>Country</th>\n",
       "      <th>Max Temp</th>\n",
       "      <th>Current Weather</th>\n",
       "      <th>Lat</th>\n",
       "      <th>Lng</th>\n",
       "      <th>Hotel Name</th>\n",
       "    </tr>\n",
       "  </thead>\n",
       "  <tbody>\n",
       "    <tr>\n",
       "      <th>9</th>\n",
       "      <td>27</td>\n",
       "      <td>Kabanjahe</td>\n",
       "      <td>ID</td>\n",
       "      <td>78.8</td>\n",
       "      <td>light rain</td>\n",
       "      <td>3.1</td>\n",
       "      <td>98.49</td>\n",
       "      <td>Pelindung Bawah Losmen</td>\n",
       "    </tr>\n",
       "  </tbody>\n",
       "</table>\n",
       "</div>"
      ],
      "text/plain": [
       "   Unnamed: 0       City Country  Max Temp Current Weather  Lat    Lng  \\\n",
       "9          27  Kabanjahe      ID      78.8      light rain  3.1  98.49   \n",
       "\n",
       "               Hotel Name  \n",
       "9  Pelindung Bawah Losmen  "
      ]
     },
     "execution_count": 16,
     "metadata": {},
     "output_type": "execute_result"
    }
   ],
   "source": [
    "Kabanjahe_df"
   ]
  },
  {
   "cell_type": "code",
   "execution_count": 17,
   "metadata": {},
   "outputs": [
    {
     "data": {
      "text/plain": [
       "(3.1, 98.49)"
      ]
     },
     "execution_count": 17,
     "metadata": {},
     "output_type": "execute_result"
    }
   ],
   "source": [
    "Kabanjahe = tuple(zip(Kabanjahe_df[\"Lat\"],Kabanjahe_df[\"Lng\"]))[0]\n",
    "Kabanjahe"
   ]
  },
  {
   "cell_type": "code",
   "execution_count": 18,
   "metadata": {},
   "outputs": [
    {
     "data": {
      "text/plain": [
       "(1.74, 98.78)"
      ]
     },
     "execution_count": 18,
     "metadata": {},
     "output_type": "execute_result"
    }
   ],
   "source": [
    "Sibolga = tuple(zip(Sibolga_df[\"Lat\"],Sibolga_df[\"Lng\"]))[0]\n",
    "Sibolga"
   ]
  },
  {
   "cell_type": "code",
   "execution_count": 19,
   "metadata": {},
   "outputs": [
    {
     "data": {
      "text/plain": [
       "(-0.95, 100.35)"
      ]
     },
     "execution_count": 19,
     "metadata": {},
     "output_type": "execute_result"
    }
   ],
   "source": [
    "Padang = tuple(zip(Padang_df[\"Lat\"],Padang_df[\"Lng\"]))[0]\n",
    "Padang"
   ]
  },
  {
   "cell_type": "code",
   "execution_count": 11,
   "metadata": {},
   "outputs": [
    {
     "data": {
      "text/plain": [
       "(-3.8, 102.27)"
      ]
     },
     "execution_count": 11,
     "metadata": {},
     "output_type": "execute_result"
    }
   ],
   "source": [
    "Bengkulu = tuple(zip(Bengkulu_df[\"Lat\"],Bengkulu_df[\"Lng\"]))[0]\n",
    "Bengkulu"
   ]
  },
  {
   "cell_type": "code",
   "execution_count": 73,
   "metadata": {},
   "outputs": [
    {
     "data": {
      "application/vnd.jupyter.widget-view+json": {
       "model_id": "9536cdac3ac34d52a4b9fe707383f4de",
       "version_major": 2,
       "version_minor": 0
      },
      "text/plain": [
       "Figure(layout=FigureLayout(height='420px'))"
      ]
     },
     "metadata": {},
     "output_type": "display_data"
    }
   ],
   "source": [
    "fig=gmaps.figure()\n",
    "Kabanjahe2Bengulu = gmaps.directions_layer(Kabanjahe, Bengkulu,\n",
    "                                                              waypoints = [Sibolga,Padang],\n",
    "                                                              travel_mode = \"DRIVING\")\n",
    "fig.add_layer(Kabanjahe2Bengulu)\n",
    "fig"
   ]
  },
  {
   "cell_type": "code",
   "execution_count": 43,
   "metadata": {},
   "outputs": [],
   "source": [
    "vacation_cities_df = pd.concat([Kabanjahe_df,Sibolga_df,Padang_df,Bengkulu_df])"
   ]
  },
  {
   "cell_type": "code",
   "execution_count": 44,
   "metadata": {},
   "outputs": [
    {
     "data": {
      "text/html": [
       "<div>\n",
       "<style scoped>\n",
       "    .dataframe tbody tr th:only-of-type {\n",
       "        vertical-align: middle;\n",
       "    }\n",
       "\n",
       "    .dataframe tbody tr th {\n",
       "        vertical-align: top;\n",
       "    }\n",
       "\n",
       "    .dataframe thead th {\n",
       "        text-align: right;\n",
       "    }\n",
       "</style>\n",
       "<table border=\"1\" class=\"dataframe\">\n",
       "  <thead>\n",
       "    <tr style=\"text-align: right;\">\n",
       "      <th></th>\n",
       "      <th>Unnamed: 0</th>\n",
       "      <th>City</th>\n",
       "      <th>Country</th>\n",
       "      <th>Max Temp</th>\n",
       "      <th>Current Weather</th>\n",
       "      <th>Lat</th>\n",
       "      <th>Lng</th>\n",
       "      <th>Hotel Name</th>\n",
       "    </tr>\n",
       "  </thead>\n",
       "  <tbody>\n",
       "    <tr>\n",
       "      <th>9</th>\n",
       "      <td>27</td>\n",
       "      <td>Kabanjahe</td>\n",
       "      <td>ID</td>\n",
       "      <td>78.80</td>\n",
       "      <td>light rain</td>\n",
       "      <td>3.10</td>\n",
       "      <td>98.49</td>\n",
       "      <td>Pelindung Bawah Losmen</td>\n",
       "    </tr>\n",
       "    <tr>\n",
       "      <th>13</th>\n",
       "      <td>35</td>\n",
       "      <td>Sibolga</td>\n",
       "      <td>ID</td>\n",
       "      <td>78.57</td>\n",
       "      <td>overcast clouds</td>\n",
       "      <td>1.74</td>\n",
       "      <td>98.78</td>\n",
       "      <td>Hotel Syariah CN Darussalam</td>\n",
       "    </tr>\n",
       "    <tr>\n",
       "      <th>138</th>\n",
       "      <td>412</td>\n",
       "      <td>Padang</td>\n",
       "      <td>ID</td>\n",
       "      <td>78.57</td>\n",
       "      <td>light rain</td>\n",
       "      <td>-0.95</td>\n",
       "      <td>100.35</td>\n",
       "      <td>Mercure Padang</td>\n",
       "    </tr>\n",
       "    <tr>\n",
       "      <th>92</th>\n",
       "      <td>250</td>\n",
       "      <td>Bengkulu</td>\n",
       "      <td>ID</td>\n",
       "      <td>77.04</td>\n",
       "      <td>light rain</td>\n",
       "      <td>-3.80</td>\n",
       "      <td>102.27</td>\n",
       "      <td>Grage Hotel Bengkulu</td>\n",
       "    </tr>\n",
       "  </tbody>\n",
       "</table>\n",
       "</div>"
      ],
      "text/plain": [
       "     Unnamed: 0       City Country  Max Temp  Current Weather   Lat     Lng  \\\n",
       "9            27  Kabanjahe      ID     78.80       light rain  3.10   98.49   \n",
       "13           35    Sibolga      ID     78.57  overcast clouds  1.74   98.78   \n",
       "138         412     Padang      ID     78.57       light rain -0.95  100.35   \n",
       "92          250   Bengkulu      ID     77.04       light rain -3.80  102.27   \n",
       "\n",
       "                      Hotel Name  \n",
       "9         Pelindung Bawah Losmen  \n",
       "13   Hotel Syariah CN Darussalam  \n",
       "138               Mercure Padang  \n",
       "92          Grage Hotel Bengkulu  "
      ]
     },
     "execution_count": 44,
     "metadata": {},
     "output_type": "execute_result"
    }
   ],
   "source": [
    "vacation_cities_df"
   ]
  },
  {
   "cell_type": "code",
   "execution_count": 59,
   "metadata": {},
   "outputs": [],
   "source": [
    "info_box_template = \"\"\"\n",
    "<dl>\n",
    "<dt>Hotel Name</dt><dd>{Hotel Name}</dd>\n",
    "<dt>City</dt><dd>{City}</dd>\n",
    "<dt>Country</dt><dd>{Country}</dd>\n",
    "<dt>Current Weather</dt><dd>{Current Weather} and {Max Temp} °F </dd>\n",
    "\n",
    "</dl>\n",
    "\"\"\"\n",
    "# Store the DataFrame Row.\n",
    "trip_info = [info_box_template.format(**row) for index, row in vacation_cities_df.iterrows()]"
   ]
  },
  {
   "cell_type": "code",
   "execution_count": 72,
   "metadata": {},
   "outputs": [
    {
     "data": {
      "application/vnd.jupyter.widget-view+json": {
       "model_id": "912a554a19294fae8b7500a9aac09b78",
       "version_major": 2,
       "version_minor": 0
      },
      "text/plain": [
       "Figure(layout=FigureLayout(height='420px'))"
      ]
     },
     "metadata": {},
     "output_type": "display_data"
    }
   ],
   "source": [
    "\n",
    "# fig.add_layer(marker_layer)\n",
    "# # Call the figure to plot the data.\n",
    "# fig\n",
    "locations = vacation_cities_df[[\"Lat\", \"Lng\"]]\n",
    "fig = gmaps.figure(center=(30.0, 31.0), zoom_level=1.5)\n",
    "\n",
    "\n",
    "Kabanjahe2Bengulu = gmaps.directions_layer(Kabanjahe, Bengkulu,\n",
    "                                                              waypoints = [Sibolga,Padang],\n",
    "                                                              travel_mode = \"DRIVING\",\n",
    "                                                              show_markers = False)\n",
    "marker_layer = gmaps.marker_layer(locations, info_box_content = trip_info)\n",
    "\n",
    "marker_layer.markers[0].label = 'A'\n",
    "marker_layer.markers[1].label = 'B'\n",
    "marker_layer.markers[2].label = 'C'\n",
    "marker_layer.markers[3].label = 'D'\n",
    "\n",
    "\n",
    "fig.add_layer(Kabanjahe2Bengulu)\n",
    "fig.add_layer(marker_layer)\n",
    "fig"
   ]
  },
  {
   "cell_type": "code",
   "execution_count": null,
   "metadata": {},
   "outputs": [],
   "source": []
  }
 ],
 "metadata": {
  "kernelspec": {
   "display_name": "PythonData",
   "language": "python",
   "name": "pythondata"
  },
  "language_info": {
   "codemirror_mode": {
    "name": "ipython",
    "version": 3
   },
   "file_extension": ".py",
   "mimetype": "text/x-python",
   "name": "python",
   "nbconvert_exporter": "python",
   "pygments_lexer": "ipython3",
   "version": "3.7.7"
  }
 },
 "nbformat": 4,
 "nbformat_minor": 4
}
